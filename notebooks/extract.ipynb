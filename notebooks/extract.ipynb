{
 "cells": [
  {
   "cell_type": "code",
   "execution_count": 1,
   "id": "8ba5d9cc-5101-41ad-b5db-2252c4876223",
   "metadata": {
    "editable": true,
    "slideshow": {
     "slide_type": ""
    },
    "tags": []
   },
   "outputs": [],
   "source": [
    "import requests\n",
    "import json\n",
    "import os\n",
    "from pathlib import Path"
   ]
  },
  {
   "cell_type": "code",
   "execution_count": 8,
   "id": "5b3b771e-6962-4514-b407-8f2e2807493e",
   "metadata": {
    "editable": true,
    "slideshow": {
     "slide_type": ""
    },
    "tags": []
   },
   "outputs": [
    {
     "data": {
      "text/plain": [
       "PosixPath('/home/jovyan')"
      ]
     },
     "execution_count": 8,
     "metadata": {},
     "output_type": "execute_result"
    }
   ],
   "source": [
    "BASE_PATH = Path('/home/jovyan')\n",
    "loc = BASE_PATH\n",
    "project_name = 'test'\n",
    "loc"
   ]
  },
  {
   "cell_type": "code",
   "execution_count": 10,
   "id": "848ff582-3f98-4a7f-baed-197db865fdc6",
   "metadata": {
    "editable": true,
    "slideshow": {
     "slide_type": ""
    },
    "tags": [
     "parameters",
     "count",
     "project_name"
    ]
   },
   "outputs": [
    {
     "data": {
      "text/plain": [
       "'/home/jovyan/work/test'"
      ]
     },
     "execution_count": 10,
     "metadata": {},
     "output_type": "execute_result"
    }
   ],
   "source": [
    "count = 4\n"
   ]
  },
  {
   "cell_type": "code",
   "execution_count": 4,
   "id": "03cdd3c3-4d17-461a-bda8-bb7f475278bd",
   "metadata": {
    "editable": true,
    "slideshow": {
     "slide_type": ""
    },
    "tags": []
   },
   "outputs": [
    {
     "name": "stdout",
     "output_type": "stream",
     "text": [
      "{\"data\":[\"Cats have 30 vertebrae--5 more than humans have.\",\"Neutering a cat extends its life span by two or three years.\",\"The first cat show was in 1871 at the Crystal Palace in London.\",\"Statistics indicate that animal lovers in recent years have shown a preference for cats over dogs!\"]}\n"
     ]
    }
   ],
   "source": [
    "response = requests.get(url = f\"https://meowfacts.herokuapp.com/?count={count}\")\n",
    "print(response.text)"
   ]
  },
  {
   "cell_type": "code",
   "execution_count": 5,
   "id": "c464667f-5820-474c-8d68-9cbe0ed14dc5",
   "metadata": {
    "editable": true,
    "slideshow": {
     "slide_type": ""
    },
    "tags": []
   },
   "outputs": [
    {
     "data": {
      "text/plain": [
       "'/home/jovyan/work/test/data/file.txt'"
      ]
     },
     "execution_count": 5,
     "metadata": {},
     "output_type": "execute_result"
    }
   ],
   "source": [
    "dict_response = json.loads(response.text)\n",
    "file_path = os.path.join(loc, 'work', project_name, 'data', 'file.txt')\n",
    "file_path"
   ]
  },
  {
   "cell_type": "code",
   "execution_count": 6,
   "id": "41c2665f-6f49-420c-9563-180aafe8067d",
   "metadata": {
    "editable": true,
    "slideshow": {
     "slide_type": ""
    },
    "tags": []
   },
   "outputs": [],
   "source": [
    "with open(file_path, 'a+', newline='') as file:\n",
    "    for data in dict_response['data']:\n",
    "        file.write(data + ';')\n",
    "    "
   ]
  },
  {
   "cell_type": "code",
   "execution_count": null,
   "id": "2de2ac7e-6682-40b8-8318-be362fc3b8ee",
   "metadata": {
    "editable": true,
    "slideshow": {
     "slide_type": ""
    },
    "tags": []
   },
   "outputs": [],
   "source": []
  }
 ],
 "metadata": {
  "kernelspec": {
   "display_name": "Python 3 (ipykernel)",
   "language": "python",
   "name": "python3"
  },
  "language_info": {
   "codemirror_mode": {
    "name": "ipython",
    "version": 3
   },
   "file_extension": ".py",
   "mimetype": "text/x-python",
   "name": "python",
   "nbconvert_exporter": "python",
   "pygments_lexer": "ipython3",
   "version": "3.11.6"
  }
 },
 "nbformat": 4,
 "nbformat_minor": 5
}
