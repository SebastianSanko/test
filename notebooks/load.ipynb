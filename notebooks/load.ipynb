{
 "cells": [
  {
   "cell_type": "code",
   "execution_count": 1,
   "id": "fb7cf373-1c03-4eb0-8395-f4252fea0fb9",
   "metadata": {
    "editable": true,
    "slideshow": {
     "slide_type": ""
    },
    "tags": []
   },
   "outputs": [],
   "source": [
    "import sqlite3\n",
    "import pandas as pd\n",
    "import os\n",
    "from pathlib import Path\n",
    "conn = sqlite3.connect(':memory:')"
   ]
  },
  {
   "cell_type": "code",
   "execution_count": 2,
   "id": "7ba8a846-52bb-452f-91e3-7470dee0cc23",
   "metadata": {
    "editable": true,
    "slideshow": {
     "slide_type": ""
    },
    "tags": []
   },
   "outputs": [
    {
     "data": {
      "text/plain": [
       "PosixPath('/home/jovyan')"
      ]
     },
     "execution_count": 2,
     "metadata": {},
     "output_type": "execute_result"
    }
   ],
   "source": [
    "BASE_PATH = Path('/home/jovyan')\n",
    "loc = BASE_PATH\n",
    "project_name = 'test'\n",
    "loc"
   ]
  },
  {
   "cell_type": "code",
   "execution_count": 3,
   "id": "9aba5745-d05e-4471-8d14-472956317bc1",
   "metadata": {
    "editable": true,
    "slideshow": {
     "slide_type": ""
    },
    "tags": []
   },
   "outputs": [],
   "source": [
    "file_path = os.path.join(loc, 'work', project_name, 'data', 'fakty_tmp.csv')\n",
    "\n",
    "df = pd.read_csv(file_path)\n"
   ]
  },
  {
   "cell_type": "code",
   "execution_count": 4,
   "id": "7eda7850-aa4c-4579-b933-d8b099e5a612",
   "metadata": {
    "editable": true,
    "slideshow": {
     "slide_type": ""
    },
    "tags": [
     "parameters",
     "project_name",
     "table_name"
    ]
   },
   "outputs": [],
   "source": [
    "table_name = \"Tabela\""
   ]
  },
  {
   "cell_type": "code",
   "execution_count": 5,
   "id": "0458bdd5-007d-4919-9e1e-16be42306c80",
   "metadata": {
    "editable": true,
    "slideshow": {
     "slide_type": ""
    },
    "tags": []
   },
   "outputs": [],
   "source": [
    "\n",
    "cursor = conn.cursor()\n",
    "cursor.execute(f'''SELECT name FROM sqlite_master WHERE type='table' AND name='{table_name}' ''')\n",
    "existing_table = cursor.fetchone()\n",
    "\n",
    "if existing_table:\n",
    "    conn.execute(f'DELETE FROM {table_name}')"
   ]
  },
  {
   "cell_type": "code",
   "execution_count": 6,
   "id": "adaeb1ee-23bc-423b-b9b6-c40a67a83073",
   "metadata": {
    "editable": true,
    "slideshow": {
     "slide_type": ""
    },
    "tags": []
   },
   "outputs": [
    {
     "data": {
      "text/plain": [
       "4"
      ]
     },
     "execution_count": 6,
     "metadata": {},
     "output_type": "execute_result"
    }
   ],
   "source": [
    "df.to_sql(table_name, conn, index=False)"
   ]
  },
  {
   "cell_type": "code",
   "execution_count": 7,
   "id": "b5fe683c-a591-40fd-856c-abf2f6afc9c3",
   "metadata": {
    "editable": true,
    "slideshow": {
     "slide_type": ""
    },
    "tags": []
   },
   "outputs": [
    {
     "name": "stdout",
     "output_type": "stream",
     "text": [
      "                                               Fakty\n",
      "0  Almost 10% of a cat's bones are in its tail, a...\n",
      "1  Cats can get tapeworms from eating mice. If yo...\n",
      "2  Cat families usually play best in even numbers...\n",
      "3  Cats do not think that they are little people....\n"
     ]
    }
   ],
   "source": [
    "query_result = pd.read_sql(f'SELECT * FROM {table_name}', conn)\n",
    "print(query_result)\n",
    "conn.close()"
   ]
  },
  {
   "cell_type": "code",
   "execution_count": null,
   "id": "77644db9-021a-4ea5-ae78-76d372d8edd1",
   "metadata": {
    "editable": true,
    "slideshow": {
     "slide_type": ""
    },
    "tags": []
   },
   "outputs": [],
   "source": []
  }
 ],
 "metadata": {
  "kernelspec": {
   "display_name": "Python 3 (ipykernel)",
   "language": "python",
   "name": "python3"
  },
  "language_info": {
   "codemirror_mode": {
    "name": "ipython",
    "version": 3
   },
   "file_extension": ".py",
   "mimetype": "text/x-python",
   "name": "python",
   "nbconvert_exporter": "python",
   "pygments_lexer": "ipython3",
   "version": "3.11.6"
  }
 },
 "nbformat": 4,
 "nbformat_minor": 5
}
