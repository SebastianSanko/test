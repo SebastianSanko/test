{
 "cells": [
  {
   "cell_type": "code",
   "execution_count": 7,
   "id": "fb7cf373-1c03-4eb0-8395-f4252fea0fb9",
   "metadata": {
    "editable": true,
    "slideshow": {
     "slide_type": ""
    },
    "tags": []
   },
   "outputs": [],
   "source": [
    "import sqlite3\n",
    "import pandas as pd\n",
    "conn = sqlite3.connect(':memory:')"
   ]
  },
  {
   "cell_type": "code",
   "execution_count": 8,
   "id": "7ba8a846-52bb-452f-91e3-7470dee0cc23",
   "metadata": {
    "editable": true,
    "slideshow": {
     "slide_type": ""
    },
    "tags": []
   },
   "outputs": [
    {
     "data": {
      "text/html": [
       "<div>\n",
       "<style scoped>\n",
       "    .dataframe tbody tr th:only-of-type {\n",
       "        vertical-align: middle;\n",
       "    }\n",
       "\n",
       "    .dataframe tbody tr th {\n",
       "        vertical-align: top;\n",
       "    }\n",
       "\n",
       "    .dataframe thead th {\n",
       "        text-align: right;\n",
       "    }\n",
       "</style>\n",
       "<table border=\"1\" class=\"dataframe\">\n",
       "  <thead>\n",
       "    <tr style=\"text-align: right;\">\n",
       "      <th></th>\n",
       "      <th>Fakty</th>\n",
       "    </tr>\n",
       "  </thead>\n",
       "  <tbody>\n",
       "    <tr>\n",
       "      <th>0</th>\n",
       "      <td>People who are allergic to cats are actually a...</td>\n",
       "    </tr>\n",
       "    <tr>\n",
       "      <th>1</th>\n",
       "      <td>In 1987 cats overtook dogs as the number one p...</td>\n",
       "    </tr>\n",
       "    <tr>\n",
       "      <th>2</th>\n",
       "      <td>Cats are subject to gum disease and to dental ...</td>\n",
       "    </tr>\n",
       "    <tr>\n",
       "      <th>3</th>\n",
       "      <td>Not every cat gets 'high' from catnip. Whether...</td>\n",
       "    </tr>\n",
       "  </tbody>\n",
       "</table>\n",
       "</div>"
      ],
      "text/plain": [
       "                                               Fakty\n",
       "0  People who are allergic to cats are actually a...\n",
       "1  In 1987 cats overtook dogs as the number one p...\n",
       "2  Cats are subject to gum disease and to dental ...\n",
       "3  Not every cat gets 'high' from catnip. Whether..."
      ]
     },
     "execution_count": 8,
     "metadata": {},
     "output_type": "execute_result"
    }
   ],
   "source": [
    "df = pd.read_csv(\"../data/fakty_tmp.csv\")\n",
    "df"
   ]
  },
  {
   "cell_type": "code",
   "execution_count": 9,
   "id": "7eda7850-aa4c-4579-b933-d8b099e5a612",
   "metadata": {
    "editable": true,
    "slideshow": {
     "slide_type": ""
    },
    "tags": [
     "parameters",
     "table_name"
    ]
   },
   "outputs": [],
   "source": [
    "table_name = \"Tabela\""
   ]
  },
  {
   "cell_type": "code",
   "execution_count": 11,
   "id": "0458bdd5-007d-4919-9e1e-16be42306c80",
   "metadata": {
    "editable": true,
    "slideshow": {
     "slide_type": ""
    },
    "tags": []
   },
   "outputs": [],
   "source": [
    "\n",
    "cursor = conn.cursor()\n",
    "cursor.execute(f'''SELECT name FROM sqlite_master WHERE type='table' AND name='{table_name}' ''')\n",
    "existing_table = cursor.fetchone()\n",
    "\n",
    "if existing_table:\n",
    "    conn.execute(f'DELETE FROM {table_name}')"
   ]
  },
  {
   "cell_type": "code",
   "execution_count": 12,
   "id": "adaeb1ee-23bc-423b-b9b6-c40a67a83073",
   "metadata": {
    "editable": true,
    "slideshow": {
     "slide_type": ""
    },
    "tags": []
   },
   "outputs": [
    {
     "data": {
      "text/plain": [
       "4"
      ]
     },
     "execution_count": 12,
     "metadata": {},
     "output_type": "execute_result"
    }
   ],
   "source": [
    "df.to_sql(table_name, conn, index=False)"
   ]
  },
  {
   "cell_type": "code",
   "execution_count": 13,
   "id": "b5fe683c-a591-40fd-856c-abf2f6afc9c3",
   "metadata": {
    "editable": true,
    "slideshow": {
     "slide_type": ""
    },
    "tags": []
   },
   "outputs": [
    {
     "name": "stdout",
     "output_type": "stream",
     "text": [
      "                                               Fakty\n",
      "0  People who are allergic to cats are actually a...\n",
      "1  In 1987 cats overtook dogs as the number one p...\n",
      "2  Cats are subject to gum disease and to dental ...\n",
      "3  Not every cat gets 'high' from catnip. Whether...\n"
     ]
    }
   ],
   "source": [
    "query_result = pd.read_sql(f'SELECT * FROM {table_name}', conn)\n",
    "print(query_result)\n",
    "conn.close()"
   ]
  },
  {
   "cell_type": "code",
   "execution_count": null,
   "id": "77644db9-021a-4ea5-ae78-76d372d8edd1",
   "metadata": {
    "editable": true,
    "slideshow": {
     "slide_type": ""
    },
    "tags": []
   },
   "outputs": [],
   "source": []
  }
 ],
 "metadata": {
  "kernelspec": {
   "display_name": "Python 3 (ipykernel)",
   "language": "python",
   "name": "python3"
  },
  "language_info": {
   "codemirror_mode": {
    "name": "ipython",
    "version": 3
   },
   "file_extension": ".py",
   "mimetype": "text/x-python",
   "name": "python",
   "nbconvert_exporter": "python",
   "pygments_lexer": "ipython3",
   "version": "3.11.6"
  }
 },
 "nbformat": 4,
 "nbformat_minor": 5
}
